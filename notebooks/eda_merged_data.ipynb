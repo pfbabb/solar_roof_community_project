{
 "cells": [
  {
   "cell_type": "code",
   "execution_count": 1,
   "id": "26a7f79d",
   "metadata": {},
   "outputs": [],
   "source": [
    "import pandas as pd"
   ]
  },
  {
   "cell_type": "code",
   "execution_count": 2,
   "id": "545ece4f",
   "metadata": {},
   "outputs": [],
   "source": [
    "capmerge = pd.read_csv('../data/capmerge.csv')\n",
    "georegions = pd.read_csv('../data/georegions.csv')\n",
    "ratesbymetro = pd.read_csv('../data/ratesbymetro.csv')"
   ]
  },
  {
   "cell_type": "code",
   "execution_count": 5,
   "id": "5bb4fd0a",
   "metadata": {},
   "outputs": [],
   "source": [
    "ratesbymetro['avg_rate'] = ratesbymetro['Thousand Dollars'] / ratesbymetro['Megawatthours']\n",
    "ratesbymetro['usage'] = ratesbymetro['Megawatthours'] / ratesbymetro['Count']\n",
    "dataset = capmerge.merge(georegions.merge(ratesbymetro, how='inner', on='GEOID10'), how='inner', on='region_name')\n",
    "dataset['savings_10kw_house'] = (((10 * dataset['yearly_sunlight_kwh_kw_threshold_avg']) * dataset['avg_rate']) / .85) - (dataset['usage'] * dataset['avg_rate'])"
   ]
  },
  {
   "cell_type": "code",
   "execution_count": 9,
   "id": "c2407ca6",
   "metadata": {},
   "outputs": [],
   "source": [
    "dataset.corr().to_csv('../data/corr.csv')"
   ]
  },
  {
   "cell_type": "code",
   "execution_count": null,
   "id": "29c218cb",
   "metadata": {},
   "outputs": [],
   "source": []
  },
  {
   "cell_type": "code",
   "execution_count": null,
   "id": "0cb89aea",
   "metadata": {},
   "outputs": [],
   "source": []
  },
  {
   "cell_type": "code",
   "execution_count": null,
   "id": "53cd37d5",
   "metadata": {},
   "outputs": [],
   "source": []
  },
  {
   "cell_type": "code",
   "execution_count": null,
   "id": "21811b88",
   "metadata": {},
   "outputs": [],
   "source": []
  },
  {
   "cell_type": "code",
   "execution_count": null,
   "id": "a3ac58d7",
   "metadata": {},
   "outputs": [],
   "source": []
  }
 ],
 "metadata": {
  "kernelspec": {
   "display_name": "Python 3",
   "language": "python",
   "name": "python3"
  },
  "language_info": {
   "codemirror_mode": {
    "name": "ipython",
    "version": 3
   },
   "file_extension": ".py",
   "mimetype": "text/x-python",
   "name": "python",
   "nbconvert_exporter": "python",
   "pygments_lexer": "ipython3",
   "version": "3.8.10"
  }
 },
 "nbformat": 4,
 "nbformat_minor": 5
}
