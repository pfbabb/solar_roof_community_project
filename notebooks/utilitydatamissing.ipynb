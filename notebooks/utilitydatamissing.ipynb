{
 "cells": [
  {
   "cell_type": "code",
   "execution_count": 16,
   "id": "71bc434b",
   "metadata": {},
   "outputs": [],
   "source": [
    "import pandas as pd\n",
    "import geopandas as gpd\n",
    "import requests\n",
    "#Endpoint for API with key attached\n",
    "apifile = open('../data/apikey.txt')\n",
    "apikey = apifile.read()\n",
    "url = 'https://api.openei.org/utility_rates?version=3&format=json&' + apikey"
   ]
  },
  {
   "cell_type": "code",
   "execution_count": 17,
   "id": "db95d69e",
   "metadata": {},
   "outputs": [],
   "source": [
    "utilities = pd.read_csv('../data/utilities.csv',index_col=0)\n",
    "names = iter(range(0,18))\n",
    "for num in names:\n",
    "    file = pd.read_csv('../data/rates' + str(num) + '.csv', na_values='No', index_col=0, dtype={'GEOID10':'str','eiaid':'str'})\n",
    "    utilities = utilities.append(file)\n",
    "#utilities.drop_duplicates(inplace=True)"
   ]
  },
  {
   "cell_type": "code",
   "execution_count": 18,
   "id": "6605b968",
   "metadata": {},
   "outputs": [],
   "source": [
    "utilities = utilities.drop(columns='region_name')"
   ]
  },
  {
   "cell_type": "code",
   "execution_count": 19,
   "id": "0dae6177",
   "metadata": {},
   "outputs": [
    {
     "data": {
      "text/plain": [
       "94591.0    24\n",
       "1819.0     24\n",
       "45505.0    24\n",
       "88504.0    24\n",
       "76339.0    24\n",
       "           ..\n",
       "83073       1\n",
       "49042       1\n",
       "61057       1\n",
       "11620       1\n",
       "16171       1\n",
       "Name: GEOID10, Length: 6806, dtype: int64"
      ]
     },
     "execution_count": 19,
     "metadata": {},
     "output_type": "execute_result"
    }
   ],
   "source": [
    "utilities['GEOID10'].value_counts()"
   ]
  },
  {
   "cell_type": "code",
   "execution_count": 20,
   "id": "ddfcb9cf",
   "metadata": {},
   "outputs": [
    {
     "name": "stdout",
     "output_type": "stream",
     "text": [
      "<class 'pandas.core.frame.DataFrame'>\n",
      "Int64Index: 22766 entries, 0 to 4\n",
      "Data columns (total 3 columns):\n",
      " #   Column   Non-Null Count  Dtype \n",
      "---  ------   --------------  ----- \n",
      " 0   GEOID10  21584 non-null  object\n",
      " 1   utility  21190 non-null  object\n",
      " 2   eiaid    21190 non-null  object\n",
      "dtypes: object(3)\n",
      "memory usage: 711.4+ KB\n"
     ]
    }
   ],
   "source": [
    "utilities.info()"
   ]
  },
  {
   "cell_type": "code",
   "execution_count": 21,
   "id": "eb54d4c3",
   "metadata": {},
   "outputs": [],
   "source": [
    "metros = gpd.read_file('../data/metro/tl_2020_us_uac10.shp')"
   ]
  },
  {
   "cell_type": "code",
   "execution_count": 22,
   "id": "a4618378",
   "metadata": {},
   "outputs": [
    {
     "data": {
      "text/plain": [
       "3601"
      ]
     },
     "execution_count": 22,
     "metadata": {},
     "output_type": "execute_result"
    }
   ],
   "source": [
    "metros['GEOID10'].nunique()"
   ]
  },
  {
   "cell_type": "code",
   "execution_count": 25,
   "id": "17dad351",
   "metadata": {},
   "outputs": [],
   "source": [
    "missing = metros[~metros['GEOID10'].isin(utilities['GEOID10'])]\n",
    "#missing = metros[metros['GEOID10'].isin(utilities[utilities['utility']=='No']['GEOID10'].astype('int').astype('str'))]\n",
    "missing = metros[metros['GEOID10']=='40429']"
   ]
  },
  {
   "cell_type": "code",
   "execution_count": 26,
   "id": "93da939b",
   "metadata": {},
   "outputs": [
    {
     "data": {
      "text/plain": [
       "1"
      ]
     },
     "execution_count": 26,
     "metadata": {},
     "output_type": "execute_result"
    }
   ],
   "source": [
    "len(missing)"
   ]
  },
  {
   "cell_type": "code",
   "execution_count": 27,
   "id": "5fbdead2",
   "metadata": {},
   "outputs": [
    {
     "name": "stdout",
     "output_type": "stream",
     "text": [
      "936 - <Response [200]>\n",
      "else\n"
     ]
    }
   ],
   "source": [
    "utility_region = pd.DataFrame()\n",
    "x = []\n",
    "for index, row in missing.iterrows():\n",
    "    params = {'sector':'Residential',          \n",
    "         'lat':row.INTPTLAT10,\n",
    "         'lon':row.INTPTLON10\n",
    "         }\n",
    "    response = requests.get(url, params = params)\n",
    "    print(str(index)+' - ' +str(response))\n",
    "    if len(response.json()['items']):\n",
    "        df = pd.json_normalize(response.json()['items'])\n",
    "        df['GEOID10'] = row['GEOID10']\n",
    "        utility_region = utility_region.append(df.loc[:,['GEOID10','utility','eiaid']].drop_duplicates())\n",
    "    else:\n",
    "        print('else')\n",
    "        utility_region = utility_region.append({'GEOID10': row['GEOID10'],'utility':'No','eiaid':'No'}, ignore_index=True)\n"
   ]
  },
  {
   "cell_type": "code",
   "execution_count": null,
   "id": "668bc0fd",
   "metadata": {},
   "outputs": [],
   "source": [
    "utility_region['eiaid'].value_counts()"
   ]
  },
  {
   "cell_type": "code",
   "execution_count": null,
   "id": "faefdea5",
   "metadata": {},
   "outputs": [],
   "source": [
    "utility_region"
   ]
  },
  {
   "cell_type": "code",
   "execution_count": null,
   "id": "f6ca35e3",
   "metadata": {},
   "outputs": [],
   "source": [
    "utilities = utilities.append(utility_region)"
   ]
  },
  {
   "cell_type": "code",
   "execution_count": 13,
   "id": "4700339e",
   "metadata": {},
   "outputs": [
    {
     "data": {
      "text/html": [
       "<div>\n",
       "<style scoped>\n",
       "    .dataframe tbody tr th:only-of-type {\n",
       "        vertical-align: middle;\n",
       "    }\n",
       "\n",
       "    .dataframe tbody tr th {\n",
       "        vertical-align: top;\n",
       "    }\n",
       "\n",
       "    .dataframe thead th {\n",
       "        text-align: right;\n",
       "    }\n",
       "</style>\n",
       "<table border=\"1\" class=\"dataframe\">\n",
       "  <thead>\n",
       "    <tr style=\"text-align: right;\">\n",
       "      <th></th>\n",
       "      <th>GEOID10</th>\n",
       "      <th>utility</th>\n",
       "      <th>eiaid</th>\n",
       "    </tr>\n",
       "  </thead>\n",
       "  <tbody>\n",
       "    <tr>\n",
       "      <th>0</th>\n",
       "      <td>24310.0</td>\n",
       "      <td>Commonwealth Edison Co</td>\n",
       "      <td>4110</td>\n",
       "    </tr>\n",
       "    <tr>\n",
       "      <th>1</th>\n",
       "      <td>27847.0</td>\n",
       "      <td>City of Escanaba, Michigan (Utility Company)</td>\n",
       "      <td>24558</td>\n",
       "    </tr>\n",
       "    <tr>\n",
       "      <th>2</th>\n",
       "      <td>18100.0</td>\n",
       "      <td>City of Clintonville, Wisconsin (Utility Company)</td>\n",
       "      <td>3814</td>\n",
       "    </tr>\n",
       "    <tr>\n",
       "      <th>3</th>\n",
       "      <td>6166.0</td>\n",
       "      <td>Duke Energy Indiana Inc</td>\n",
       "      <td>15470</td>\n",
       "    </tr>\n",
       "    <tr>\n",
       "      <th>4</th>\n",
       "      <td>75270.0</td>\n",
       "      <td>Pacific Gas &amp; Electric Co</td>\n",
       "      <td>14328</td>\n",
       "    </tr>\n",
       "    <tr>\n",
       "      <th>...</th>\n",
       "      <td>...</td>\n",
       "      <td>...</td>\n",
       "      <td>...</td>\n",
       "    </tr>\n",
       "    <tr>\n",
       "      <th>68</th>\n",
       "      <td>95482</td>\n",
       "      <td>Consumers Energy Co</td>\n",
       "      <td>4254</td>\n",
       "    </tr>\n",
       "    <tr>\n",
       "      <th>20</th>\n",
       "      <td>56980</td>\n",
       "      <td>Consumers Energy Co</td>\n",
       "      <td>4254</td>\n",
       "    </tr>\n",
       "    <tr>\n",
       "      <th>20</th>\n",
       "      <td>10675</td>\n",
       "      <td>Consumers Energy Co</td>\n",
       "      <td>4254</td>\n",
       "    </tr>\n",
       "    <tr>\n",
       "      <th>27</th>\n",
       "      <td>31450</td>\n",
       "      <td>Jersey Central Power &amp; Lt Co (New Jersey)</td>\n",
       "      <td>9726</td>\n",
       "    </tr>\n",
       "    <tr>\n",
       "      <th>4</th>\n",
       "      <td>16171</td>\n",
       "      <td>Orange &amp; Rockland Utils Inc</td>\n",
       "      <td>14154</td>\n",
       "    </tr>\n",
       "  </tbody>\n",
       "</table>\n",
       "<p>22766 rows × 3 columns</p>\n",
       "</div>"
      ],
      "text/plain": [
       "    GEOID10                                            utility  eiaid\n",
       "0   24310.0                             Commonwealth Edison Co   4110\n",
       "1   27847.0       City of Escanaba, Michigan (Utility Company)  24558\n",
       "2   18100.0  City of Clintonville, Wisconsin (Utility Company)   3814\n",
       "3    6166.0                            Duke Energy Indiana Inc  15470\n",
       "4   75270.0                          Pacific Gas & Electric Co  14328\n",
       "..      ...                                                ...    ...\n",
       "68    95482                                Consumers Energy Co   4254\n",
       "20    56980                                Consumers Energy Co   4254\n",
       "20    10675                                Consumers Energy Co   4254\n",
       "27    31450          Jersey Central Power & Lt Co (New Jersey)   9726\n",
       "4     16171                        Orange & Rockland Utils Inc  14154\n",
       "\n",
       "[22766 rows x 3 columns]"
      ]
     },
     "execution_count": 13,
     "metadata": {},
     "output_type": "execute_result"
    }
   ],
   "source": [
    "utilities"
   ]
  },
  {
   "cell_type": "code",
   "execution_count": 15,
   "id": "f0e781ce",
   "metadata": {},
   "outputs": [
    {
     "data": {
      "text/html": [
       "<div>\n",
       "<style scoped>\n",
       "    .dataframe tbody tr th:only-of-type {\n",
       "        vertical-align: middle;\n",
       "    }\n",
       "\n",
       "    .dataframe tbody tr th {\n",
       "        vertical-align: top;\n",
       "    }\n",
       "\n",
       "    .dataframe thead th {\n",
       "        text-align: right;\n",
       "    }\n",
       "</style>\n",
       "<table border=\"1\" class=\"dataframe\">\n",
       "  <thead>\n",
       "    <tr style=\"text-align: right;\">\n",
       "      <th></th>\n",
       "      <th>GEOID10</th>\n",
       "      <th>utility</th>\n",
       "      <th>eiaid</th>\n",
       "    </tr>\n",
       "  </thead>\n",
       "  <tbody>\n",
       "    <tr>\n",
       "      <th>0</th>\n",
       "      <td>24310.0</td>\n",
       "      <td>Commonwealth Edison Co</td>\n",
       "      <td>4110</td>\n",
       "    </tr>\n",
       "    <tr>\n",
       "      <th>1</th>\n",
       "      <td>27847.0</td>\n",
       "      <td>City of Escanaba, Michigan (Utility Company)</td>\n",
       "      <td>24558</td>\n",
       "    </tr>\n",
       "    <tr>\n",
       "      <th>2</th>\n",
       "      <td>18100.0</td>\n",
       "      <td>City of Clintonville, Wisconsin (Utility Company)</td>\n",
       "      <td>3814</td>\n",
       "    </tr>\n",
       "    <tr>\n",
       "      <th>3</th>\n",
       "      <td>6166.0</td>\n",
       "      <td>Duke Energy Indiana Inc</td>\n",
       "      <td>15470</td>\n",
       "    </tr>\n",
       "    <tr>\n",
       "      <th>4</th>\n",
       "      <td>75270.0</td>\n",
       "      <td>Pacific Gas &amp; Electric Co</td>\n",
       "      <td>14328</td>\n",
       "    </tr>\n",
       "    <tr>\n",
       "      <th>...</th>\n",
       "      <td>...</td>\n",
       "      <td>...</td>\n",
       "      <td>...</td>\n",
       "    </tr>\n",
       "    <tr>\n",
       "      <th>68</th>\n",
       "      <td>95482</td>\n",
       "      <td>Consumers Energy Co</td>\n",
       "      <td>4254</td>\n",
       "    </tr>\n",
       "    <tr>\n",
       "      <th>20</th>\n",
       "      <td>56980</td>\n",
       "      <td>Consumers Energy Co</td>\n",
       "      <td>4254</td>\n",
       "    </tr>\n",
       "    <tr>\n",
       "      <th>20</th>\n",
       "      <td>10675</td>\n",
       "      <td>Consumers Energy Co</td>\n",
       "      <td>4254</td>\n",
       "    </tr>\n",
       "    <tr>\n",
       "      <th>27</th>\n",
       "      <td>31450</td>\n",
       "      <td>Jersey Central Power &amp; Lt Co (New Jersey)</td>\n",
       "      <td>9726</td>\n",
       "    </tr>\n",
       "    <tr>\n",
       "      <th>4</th>\n",
       "      <td>16171</td>\n",
       "      <td>Orange &amp; Rockland Utils Inc</td>\n",
       "      <td>14154</td>\n",
       "    </tr>\n",
       "  </tbody>\n",
       "</table>\n",
       "<p>22766 rows × 3 columns</p>\n",
       "</div>"
      ],
      "text/plain": [
       "    GEOID10                                            utility  eiaid\n",
       "0   24310.0                             Commonwealth Edison Co   4110\n",
       "1   27847.0       City of Escanaba, Michigan (Utility Company)  24558\n",
       "2   18100.0  City of Clintonville, Wisconsin (Utility Company)   3814\n",
       "3    6166.0                            Duke Energy Indiana Inc  15470\n",
       "4   75270.0                          Pacific Gas & Electric Co  14328\n",
       "..      ...                                                ...    ...\n",
       "68    95482                                Consumers Energy Co   4254\n",
       "20    56980                                Consumers Energy Co   4254\n",
       "20    10675                                Consumers Energy Co   4254\n",
       "27    31450          Jersey Central Power & Lt Co (New Jersey)   9726\n",
       "4     16171                        Orange & Rockland Utils Inc  14154\n",
       "\n",
       "[22766 rows x 3 columns]"
      ]
     },
     "execution_count": 15,
     "metadata": {},
     "output_type": "execute_result"
    }
   ],
   "source": [
    "\n",
    "utilities.dropna().astype({'GEOID10':'int'}).astype({'GEOID10':'str'})\n",
    "utilities"
   ]
  },
  {
   "cell_type": "code",
   "execution_count": null,
   "id": "545a1c63",
   "metadata": {},
   "outputs": [],
   "source": [
    "utilities.to_csv('../data/utilities.csv')"
   ]
  },
  {
   "cell_type": "code",
   "execution_count": null,
   "id": "1267f8f5",
   "metadata": {},
   "outputs": [],
   "source": []
  },
  {
   "cell_type": "code",
   "execution_count": null,
   "id": "b575e231",
   "metadata": {},
   "outputs": [],
   "source": [
    "utilities"
   ]
  },
  {
   "cell_type": "code",
   "execution_count": null,
   "id": "aa4cb63e",
   "metadata": {},
   "outputs": [],
   "source": [
    "utilities[utilities['utility']=='No']['GEOID10'].astype('int').astype('str')"
   ]
  },
  {
   "cell_type": "code",
   "execution_count": 28,
   "id": "e1a3fc47",
   "metadata": {},
   "outputs": [
    {
     "data": {
      "text/plain": [
       "{'items': [],\n",
       " 'errors': ['Utility company lookup failed for lat/lon +29.7843079/-095.3935305']}"
      ]
     },
     "execution_count": 28,
     "metadata": {},
     "output_type": "execute_result"
    }
   ],
   "source": [
    "response.json()"
   ]
  },
  {
   "cell_type": "code",
   "execution_count": null,
   "id": "d2605190",
   "metadata": {},
   "outputs": [],
   "source": []
  }
 ],
 "metadata": {
  "kernelspec": {
   "display_name": "Python 3",
   "language": "python",
   "name": "python3"
  },
  "language_info": {
   "codemirror_mode": {
    "name": "ipython",
    "version": 3
   },
   "file_extension": ".py",
   "mimetype": "text/x-python",
   "name": "python",
   "nbconvert_exporter": "python",
   "pygments_lexer": "ipython3",
   "version": "3.8.10"
  }
 },
 "nbformat": 4,
 "nbformat_minor": 5
}
